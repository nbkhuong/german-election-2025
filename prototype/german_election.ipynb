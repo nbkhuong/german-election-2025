{
 "cells": [
  {
   "cell_type": "code",
   "execution_count": 56,
   "metadata": {},
   "outputs": [],
   "source": [
    "import csv\n",
    "import io\n",
    "import requests\n",
    "import pandas as pd\n",
    "import json\n",
    "\n",
    "import pyspark.sql.functions as F\n",
    "from pyspark.sql import SparkSession\n",
    "from pyspark.context import SparkContext\n",
    "from pyspark.conf import SparkConf\n",
    "\n",
    "from retrieve_data import DataRetrieverOverAPI\n",
    "\n",
    "DAWUM_API_URL = \"https://api.dawum.de/\""
   ]
  },
  {
   "cell_type": "code",
   "execution_count": 57,
   "metadata": {},
   "outputs": [],
   "source": [
    "spark = SparkSession.builder \\\n",
    "                    .appName(\"Spark Basics\") \\\n",
    "                    .getOrCreate()"
   ]
  },
  {
   "cell_type": "code",
   "execution_count": 58,
   "metadata": {},
   "outputs": [],
   "source": [
    "dawum_api = DataRetrieverOverAPI(DAWUM_API_URL)\n",
    "data = dawum_api.data\n",
    "\n",
    "with open(\"file.json\", \"w\") as f:\n",
    "    json.dump(data, f)"
   ]
  },
  {
   "cell_type": "code",
   "execution_count": 59,
   "metadata": {},
   "outputs": [
    {
     "name": "stdout",
     "output_type": "stream",
     "text": [
      "<class 'dict'>\n"
     ]
    }
   ],
   "source": [
    "dawum_database = data['Database']\n",
    "dawum_parliaments = data['Parliaments']\n",
    "dawum_institutes = data['Institutes']\n",
    "dawum_taskers = data['Taskers']\n",
    "dawum_methods = data['Methods']\n",
    "dawum_parties = data['Parties']\n",
    "dawum_surveys = data['Surveys']\n",
    "\n",
    "print(type(dawum_surveys))"
   ]
  },
  {
   "cell_type": "code",
   "execution_count": 60,
   "metadata": {},
   "outputs": [
    {
     "name": "stdout",
     "output_type": "stream",
     "text": [
      "+--------------------+--------------------+---------+--------------------+----------------+--------------------+\n",
      "|              author|         last_update|publisher|        license_name|license_shortcut|        license_link|\n",
      "+--------------------+--------------------+---------+--------------------+----------------+--------------------+\n",
      "|Dipl.-Jur. Philip...|2025-02-22T12:45:...| dawum.de|ODC Open Database...|        ODC-ODbL|https://opendatac...|\n",
      "+--------------------+--------------------+---------+--------------------+----------------+--------------------+\n",
      "\n"
     ]
    }
   ],
   "source": [
    "df_database = spark.read.json(spark.sparkContext.parallelize([dawum_database]))\n",
    "df_database = df_database.withColumn(\"license_name\", F.col(\"License.Name\")) \\\n",
    "                    .withColumn(\"license_shortcut\", F.col(\"License.Shortcut\")) \\\n",
    "                    .withColumn(\"license_link\", F.col(\"License.Link\")) \\\n",
    "                    .drop(\"License\") \\\n",
    "                    .withColumnRenamed(\"Author\", \"author\") \\\n",
    "                    .withColumnRenamed(\"Last_Update\", \"last_update\") \\\n",
    "                    .withColumnRenamed(\"Publisher\", \"publisher\") \\\n",
    "                    \n",
    "df_database.show()\n"
   ]
  },
  {
   "cell_type": "code",
   "execution_count": 61,
   "metadata": {},
   "outputs": [
    {
     "name": "stdout",
     "output_type": "stream",
     "text": [
      "+-------------+--------------------+--------------------+--------------------+\n",
      "|parliament_id|     parliament_name| parliament_shortcut| parliament_election|\n",
      "+-------------+--------------------+--------------------+--------------------+\n",
      "|            0|           Bundestag|           Bundestag|      Bundestagswahl|\n",
      "|            6|Hamburgische Bürg...|             Hamburg|Bürgerschaftswahl...|\n",
      "|            9|Niedersächsischer...|       Niedersachsen|Landtagswahl in N...|\n",
      "|            1|Landtag von Baden...|   Baden-Württemberg|Landtagswahl in B...|\n",
      "|            8|Landtag von Meckl...|Mecklenburg-Vorpo...|Landtagswahl in M...|\n",
      "|           16|Thüringischer Lan...|           Thüringen|Landtagswahl in T...|\n",
      "|            4|Brandenburgischer...|         Brandenburg|Landtagswahl in B...|\n",
      "|           15|Landtag von Schle...|  Schleswig-Holstein|Landtagswahl in S...|\n",
      "|           14|Landtag von Sachs...|      Sachsen-Anhalt|Landtagswahl in S...|\n",
      "|           13| Sächsischer Landtag|             Sachsen|Landtagswahl in S...|\n",
      "|            7|  Hessischer Landtag|              Hessen|Landtagswahl in H...|\n",
      "|           10|Landtag von Nordr...|Nordrhein-Westfal...|Landtagswahl in N...|\n",
      "|           11|Landtag von Rhein...|     Rheinland-Pfalz|Landtagswahl in R...|\n",
      "|            3|Berliner Abgeordn...|              Berlin|Abgeordnetenhausw...|\n",
      "|            2| Bayerischer Landtag|              Bayern|Landtagswahl in B...|\n",
      "|           12|Saarländischer La...|            Saarland|Landtagswahl im S...|\n",
      "|           17|Europäisches Parl...|Europäisches Parl...|          Europawahl|\n",
      "|            5|Bremische Bürgers...|              Bremen|Bürgerschaftswahl...|\n",
      "+-------------+--------------------+--------------------+--------------------+\n",
      "\n"
     ]
    }
   ],
   "source": [
    "rdd = spark.sparkContext.parallelize(dawum_parliaments.items())  # Parallelize the dictionary items\n",
    "\n",
    "df_parliaments = rdd.map(lambda x: (x[0], x[1]['Name'], x[1]['Shortcut'], x[1]['Election'])).toDF([\"parliament_id\", \"parliament_name\", \"parliament_shortcut\", \"parliament_election\"])\n",
    "\n",
    "df_parliaments.show()"
   ]
  },
  {
   "cell_type": "code",
   "execution_count": 62,
   "metadata": {},
   "outputs": [
    {
     "name": "stdout",
     "output_type": "stream",
     "text": [
      "+------------+--------------------+\n",
      "|institute_id|      institute_name|\n",
      "+------------+--------------------+\n",
      "|           5|                INSA|\n",
      "|          24|Institut Wahlkrei...|\n",
      "|          17|               Ipsos|\n",
      "|           9|          Allensbach|\n",
      "|           2|               Forsa|\n",
      "|          13|              YouGov|\n",
      "|          16|               Civey|\n",
      "|           6|Forschungsgruppe ...|\n",
      "|           1|     Infratest dimap|\n",
      "|           4|                 GMS|\n",
      "|          22|            pollytix|\n",
      "|           3|      Verian (Emnid)|\n",
      "|           7|Trend Research Ha...|\n",
      "|          25|          IFM Berlin|\n",
      "|          21|      Policy Matters|\n",
      "|          18| Universität Hamburg|\n",
      "|          15|         Mentefactum|\n",
      "|          20|            IM Field|\n",
      "|          12|              uniQma|\n",
      "|          23|           Conoscope|\n",
      "+------------+--------------------+\n",
      "only showing top 20 rows\n",
      "\n"
     ]
    }
   ],
   "source": [
    "rdd = spark.sparkContext.parallelize(dawum_institutes.items())  # Parallelize the dictionary items\n",
    "df_institutes = rdd.map(lambda x: (x[0], x[1][\"Name\"])).toDF([\"institute_id\", \"institute_name\"])\n",
    "df_institutes.show()"
   ]
  },
  {
   "cell_type": "code",
   "execution_count": 63,
   "metadata": {},
   "outputs": [
    {
     "name": "stdout",
     "output_type": "stream",
     "text": [
      "+---------+--------------------+\n",
      "|tasker_id|         tasker_name|\n",
      "+---------+--------------------+\n",
      "|        4|                BILD|\n",
      "|       97|Institut Wahlkrei...|\n",
      "|       13|               Ipsos|\n",
      "|        6|Frankfurter Allge...|\n",
      "|       63|          RTL / n-tv|\n",
      "|       43|              YouGov|\n",
      "|      122|           Seven.One|\n",
      "|        5|  ZDF-Politbarometer|\n",
      "|       11|                 ARD|\n",
      "|        7|                 GMS|\n",
      "|       56| Schwäbische Zeitung|\n",
      "|        3|     BILD am Sonntag|\n",
      "|       10|     ARD-Tagesthemen|\n",
      "|       67|            pollytix|\n",
      "|       38|      Ostsee-Zeitung|\n",
      "|       80|FUNKE Medien Thür...|\n",
      "|       39|                 NDR|\n",
      "|       64|               FOCUS|\n",
      "|      112|Märkische Allgeme...|\n",
      "|      120|Radio Hamburg / D...|\n",
      "+---------+--------------------+\n",
      "only showing top 20 rows\n",
      "\n"
     ]
    }
   ],
   "source": [
    "rdd = spark.sparkContext.parallelize(dawum_taskers.items())\n",
    "df_taskers = rdd.map(lambda x: (x[0], x[1][\"Name\"])).toDF([\"tasker_id\", \"tasker_name\"])\n",
    "df_taskers.show()"
   ]
  },
  {
   "cell_type": "code",
   "execution_count": 64,
   "metadata": {},
   "outputs": [
    {
     "name": "stdout",
     "output_type": "stream",
     "text": [
      "+---------+----------------+\n",
      "|method_id|     method_name|\n",
      "+---------+----------------+\n",
      "|        3|          Online|\n",
      "|        2|      Persönlich|\n",
      "|        1|     Telefonisch|\n",
      "|        4|Telefon & Online|\n",
      "|        0|       Unbekannt|\n",
      "+---------+----------------+\n",
      "\n"
     ]
    }
   ],
   "source": [
    "rdd = spark.sparkContext.parallelize(dawum_methods.items())\n",
    "df_methods = rdd.map(lambda x: (x[0], x[1][\"Name\"])).toDF([\"method_id\", \"method_name\"])\n",
    "df_methods.show()"
   ]
  },
  {
   "cell_type": "code",
   "execution_count": 65,
   "metadata": {},
   "outputs": [
    {
     "name": "stdout",
     "output_type": "stream",
     "text": [
      "+--------+--------------------+----------------+\n",
      "|party_id|          party_name|  party_shortcut|\n",
      "+--------+--------------------+----------------+\n",
      "|       7|Alternative für D...|             AfD|\n",
      "|      11|   Bayernpartei e.V.|    Bayernpartei|\n",
      "|      14|Brandenburger Ver...|          BVB/FW|\n",
      "|       4|Bündnis 90/Die Gr...|           Grüne|\n",
      "|      23|Bündnis Sahra Wag...|             BSW|\n",
      "|      21|bunt.saar – sozia...|       bunt.saar|\n",
      "|      22|Bürger für Thüringen|            BfTh|\n",
      "|      16|       Bürger in Wut|             BIW|\n",
      "|       1|Christlich Demokr...|         CDU/CSU|\n",
      "|     101|Christlich Demokr...|             CDU|\n",
      "|     102|Christlich-Sozial...|             CSU|\n",
      "|       5|           Die Linke|           Linke|\n",
      "|      17|Familienpartei De...|         Familie|\n",
      "|       3|Freie Demokratisc...|             FDP|\n",
      "|       8|        Freie Wähler|    Freie Wähler|\n",
      "|       9|Nationaldemokrati...|             NPD|\n",
      "|      12|Ökologisch-Demokr...|             ÖDP|\n",
      "|      13|Partei für Arbeit...|      Die PARTEI|\n",
      "|      15|Partei Mensch Umw...|Tierschutzpartei|\n",
      "|       6|       Piratenpartei|         Piraten|\n",
      "|      24|Plus Brandenburg ...|Plus Brandenburg|\n",
      "|       2|Sozialdemokratisc...|             SPD|\n",
      "|      10|Südschleswigscher...|             SSW|\n",
      "|      18|    Volt Deutschland|            Volt|\n",
      "|      25|          WerteUnion|      WerteUnion|\n",
      "|       0|   sonstige Parteien|        Sonstige|\n",
      "+--------+--------------------+----------------+\n",
      "\n"
     ]
    }
   ],
   "source": [
    "rdd = spark.sparkContext.parallelize(dawum_parties.items())\n",
    "df_parties = rdd.map(lambda x: (x[0], x[1][\"Name\"], x[1][\"Shortcut\"])).toDF([\"party_id\", \"party_name\", \"party_shortcut\"])\n",
    "df_parties.show(df_parties.count())\n"
   ]
  },
  {
   "cell_type": "code",
   "execution_count": 112,
   "metadata": {},
   "outputs": [
    {
     "name": "stderr",
     "output_type": "stream",
     "text": [
      "25/02/25 01:14:43 WARN TaskSetManager: Stage 4137 contains a task of very large size (1715 KiB). The maximum recommended task size is 1000 KiB.\n",
      "                                                                                \r"
     ]
    },
    {
     "name": "stdout",
     "output_type": "stream",
     "text": [
      "0 Hamburgische Bürgerschaft 16487\n",
      "6 Bundestag 294\n",
      "9 Niedersächsischer Landtag 477\n",
      "1 Landtag von Baden-Württemberg 447\n",
      "8 Landtag von Mecklenburg-Vorpommern 337\n",
      "16 Thüringischer Landtag 634\n",
      "15 Brandenburgischer Landtag 327\n",
      "4 Landtag von Schleswig-Holstein 569\n",
      "13 Sächsischer Landtag 505\n",
      "14 Landtag von Sachsen-Anhalt 222\n",
      "7 Landtag von Nordrhein-Westfalen 522\n",
      "10 Hessischer Landtag 626\n",
      "11 Landtag von Rheinland-Pfalz 397\n"
     ]
    },
    {
     "name": "stderr",
     "output_type": "stream",
     "text": [
      "                                                                                \r"
     ]
    },
    {
     "name": "stdout",
     "output_type": "stream",
     "text": [
      "3 Berliner Abgeordnetenhaus 872\n",
      "5 Europäisches Parlament 232\n"
     ]
    },
    {
     "name": "stderr",
     "output_type": "stream",
     "text": [
      "                                                                                \r"
     ]
    },
    {
     "name": "stdout",
     "output_type": "stream",
     "text": [
      "17 Bremische Bürgerschaft 462\n",
      "12 Saarländischer Landtag 214\n",
      "2 Bayerischer Landtag 1283\n"
     ]
    }
   ],
   "source": [
    "df = []\n",
    "for key, value in dawum_surveys.items():\n",
    "    row = {'survey_id': key}\n",
    "    for k, v in value.items():\n",
    "        if k == \"Results\":\n",
    "            for party_id, result in v.items():\n",
    "                row['party_id'] = party_id\n",
    "                row['survey_result_by_percent'] = float(result)\n",
    "                row['survey_publish_date'] = value['Date']\n",
    "                row['institute_id'] = int(value['Institute_ID'])\n",
    "                row['parliament_id'] = int(value['Parliament_ID'])\n",
    "                row['method_id'] = int(value['Method_ID'])\n",
    "                row['survey_start_date'] = value['Survey_Period']['Date_Start']\n",
    "                row['survey_end_date'] = value['Survey_Period']['Date_End']\n",
    "                row['total_surveyees'] = int(value['Surveyed_Persons'])\n",
    "                row['tasker_id'] = int(value['Tasker_ID'])\n",
    "                \n",
    "                df.append(row)\n",
    "                row = {'survey_id': key}\n",
    "\n",
    "df_surveys = spark.createDataFrame(spark.sparkContext.parallelize(df))\n",
    "\n",
    "df_surveys = df_surveys.select(F.col(\"survey_id\"), \n",
    "                               F.col(\"party_id\"), \n",
    "                               F.col(\"institute_id\"),\n",
    "                               F.col(\"parliament_id\"),\n",
    "                               F.col(\"method_id\"),\n",
    "                               F.col(\"tasker_id\"),\n",
    "                               F.col(\"survey_result_by_percent\"),\n",
    "                               F.col(\"survey_publish_date\"),\n",
    "                               F.col(\"survey_start_date\"), \n",
    "                               F.col(\"survey_end_date\"),\n",
    "                               F.col(\"total_surveyees\") \n",
    "                               )\n",
    "\n",
    "df_surveys.coalesce(1).write.mode(\"overwrite\").option(\"header\", \"true\").csv(\"df_surveys.csv\")\n",
    "\n",
    "\n",
    "dfs = df_surveys.join(df_parliaments, on=\"parliament_id\", how=\"full\").join(df_parties, on=\"party_id\", how=\"full\")\n",
    "#dfs.show()\n",
    "surveys_by_parliament = []\n",
    "\n",
    "unique_parliament_ids = df_parliaments.select(\"parliament_id\").distinct().rdd.flatMap(lambda x: x).collect()\n",
    "unique_parliament_names = df_parliaments.select(\"parliament_name\").distinct().rdd.flatMap(lambda x: x).collect()\n",
    "\n",
    "for i, e in enumerate(surveys_by_parliament):\n",
    "    print(unique_parliament_ids[i], df_surveys.select(\"parliament_id\").distinct().count())\n",
    "\n",
    "for parliament_id in unique_parliament_ids:\n",
    "    sur_df = dfs.filter(dfs.parliament_id == parliament_id)\n",
    "    surveys_by_parliament.append(sur_df)\n",
    "\n",
    "for i, e in enumerate(surveys_by_parliament):\n",
    "    print(unique_parliament_ids[i], unique_parliament_names[i], e.orderBy(\"survey_publish_date\", ascending=True).count())\n",
    "\n",
    "#df_surveys = df_surveys.fillna({\"survey_result_by_percent\": 0})\n",
    "#df_surveys.show(90)\n"
   ]
  },
  {
   "cell_type": "code",
   "execution_count": 67,
   "metadata": {},
   "outputs": [
    {
     "name": "stdout",
     "output_type": "stream",
     "text": [
      "   survey_id party_id  survey_result_by_percent survey_publish_date  \\\n",
      "0       1000        0                       3.9          2018-08-31   \n",
      "1       1000      101                      31.1          2018-08-31   \n",
      "2       1000        2                      23.9          2018-08-31   \n",
      "3       1000        3                       7.1          2018-08-31   \n",
      "4       1000        4                      13.4          2018-08-31   \n",
      "5       1000        5                       7.9          2018-08-31   \n",
      "6       1000        7                      12.7          2018-08-31   \n",
      "7       1001        0                       4.0          2018-08-31   \n",
      "8       1001      101                      28.0          2018-08-31   \n",
      "9       1001        2                      11.0          2018-08-31   \n",
      "10      1001        3                       7.0          2018-08-31   \n",
      "11      1001        4                       7.0          2018-08-31   \n",
      "12      1001        5                      18.0          2018-08-31   \n",
      "13      1001        7                      25.0          2018-08-31   \n",
      "\n",
      "   institute_id parliament_id method_id survey_start_date survey_end_date  \\\n",
      "0            16             7         0        2018-08-14      2018-08-30   \n",
      "1            16             7         0        2018-08-14      2018-08-30   \n",
      "2            16             7         0        2018-08-14      2018-08-30   \n",
      "3            16             7         0        2018-08-14      2018-08-30   \n",
      "4            16             7         0        2018-08-14      2018-08-30   \n",
      "5            16             7         0        2018-08-14      2018-08-30   \n",
      "6            16             7         0        2018-08-14      2018-08-30   \n",
      "7             5            13         0        2018-08-27      2018-08-30   \n",
      "8             5            13         0        2018-08-27      2018-08-30   \n",
      "9             5            13         0        2018-08-27      2018-08-30   \n",
      "10            5            13         0        2018-08-27      2018-08-30   \n",
      "11            5            13         0        2018-08-27      2018-08-30   \n",
      "12            5            13         0        2018-08-27      2018-08-30   \n",
      "13            5            13         0        2018-08-27      2018-08-30   \n",
      "\n",
      "   total_surveyees tasker_id  \n",
      "0             4532        76  \n",
      "1             4532        76  \n",
      "2             4532        76  \n",
      "3             4532        76  \n",
      "4             4532        76  \n",
      "5             4532        76  \n",
      "6             4532        76  \n",
      "7             1040         4  \n",
      "8             1040         4  \n",
      "9             1040         4  \n",
      "10            1040         4  \n",
      "11            1040         4  \n",
      "12            1040         4  \n",
      "13            1040         4  \n"
     ]
    }
   ],
   "source": [
    "import pandas as pd\n",
    "\n",
    "# Your input dictionary\n",
    "data = {\n",
    "    '1000': {'Date': '2018-08-31',\n",
    "             'Institute_ID': '16',\n",
    "             'Method_ID': '0',\n",
    "             'Parliament_ID': '7',\n",
    "             'Results': {'0': 3.9,\n",
    "                         '101': 31.1,\n",
    "                         '2': 23.9,\n",
    "                         '3': 7.1,\n",
    "                         '4': 13.4,\n",
    "                         '5': 7.9,\n",
    "                         '7': 12.7},\n",
    "             'Survey_Period': {'Date_End': '2018-08-30',\n",
    "                               'Date_Start': '2018-08-14'},\n",
    "             'Surveyed_Persons': '4532',\n",
    "             'Tasker_ID': '76'},\n",
    "    '1001': {'Date': '2018-08-31',\n",
    "             'Institute_ID': '5',\n",
    "             'Method_ID': '0',\n",
    "             'Parliament_ID': '13',\n",
    "             'Results': {'0': 4,\n",
    "                         '101': 28,\n",
    "                         '2': 11,\n",
    "                         '3': 7,\n",
    "                         '4': 7,\n",
    "                         '5': 18,\n",
    "                         '7': 25},\n",
    "             'Survey_Period': {'Date_End': '2018-08-30',\n",
    "                               'Date_Start': '2018-08-27'},\n",
    "             'Surveyed_Persons': '1040',\n",
    "             'Tasker_ID': '4'}\n",
    "}\n",
    "\n",
    "survey_df = []\n",
    "for key, value in data.items():\n",
    "    row = {'survey_id': key}\n",
    "    for k, v in value.items():\n",
    "        if k == \"Results\":\n",
    "            for party_id, result in v.items():\n",
    "                row['party_id'] = party_id\n",
    "                row['survey_result_by_percent'] = result\n",
    "                row['survey_publish_date'] = value['Date']\n",
    "                row['institute_id'] = value['Institute_ID']\n",
    "                row['parliament_id'] = value['Parliament_ID']\n",
    "                row['method_id'] = value['Method_ID']\n",
    "                row['survey_start_date'] = value['Survey_Period']['Date_Start']\n",
    "                row['survey_end_date'] = value['Survey_Period']['Date_End']\n",
    "                row['total_surveyees'] = value['Surveyed_Persons']\n",
    "                row['tasker_id'] = value['Tasker_ID']\n",
    "                \n",
    "                survey_df.append(row)\n",
    "                row = {'survey_id': key}\n",
    "            break\n",
    "\n",
    "\n",
    "survey_df = pd.DataFrame(survey_df)\n",
    "\n",
    "# Show the resulting DataFrame\n",
    "print(survey_df)"
   ]
  },
  {
   "cell_type": "code",
   "execution_count": 68,
   "metadata": {},
   "outputs": [
    {
     "name": "stdout",
     "output_type": "stream",
     "text": [
      "+--------+-------------+---------+------------+---------+---------+------------------------+-------------------+-----------------+---------------+---------------+---------------+-------------------+-------------------+-----------------+--------------+\n",
      "|party_id|parliament_id|survey_id|institute_id|method_id|tasker_id|survey_result_by_percent|survey_publish_date|survey_start_date|survey_end_date|total_surveyees|parliament_name|parliament_shortcut|parliament_election|       party_name|party_shortcut|\n",
      "+--------+-------------+---------+------------+---------+---------+------------------------+-------------------+-----------------+---------------+---------------+---------------+-------------------+-------------------+-----------------+--------------+\n",
      "|       0|            0|     3774|           5|        3|        4|                     5.0|         2025-02-22|       2025-02-20|     2025-02-21|           2005|      Bundestag|          Bundestag|     Bundestagswahl|sonstige Parteien|      Sonstige|\n",
      "|       0|            0|     3773|          24|        3|       97|                     4.5|         2025-02-21|       2025-02-20|     2025-02-21|           1536|      Bundestag|          Bundestag|     Bundestagswahl|sonstige Parteien|      Sonstige|\n",
      "|       0|            0|     3772|          17|        3|       13|                     5.0|         2025-02-21|       2025-02-19|     2025-02-21|           1000|      Bundestag|          Bundestag|     Bundestagswahl|sonstige Parteien|      Sonstige|\n",
      "|       0|            0|     3770|           9|        2|        6|                     5.0|         2025-02-21|       2025-02-09|     2025-02-20|           1064|      Bundestag|          Bundestag|     Bundestagswahl|sonstige Parteien|      Sonstige|\n",
      "|       0|            0|     3769|           2|        1|       63|                     6.0|         2025-02-21|       2025-02-17|     2025-02-20|           2002|      Bundestag|          Bundestag|     Bundestagswahl|sonstige Parteien|      Sonstige|\n",
      "|       0|            0|     3768|          13|        3|       43|                     5.0|         2025-02-21|       2025-02-17|     2025-02-20|           1681|      Bundestag|          Bundestag|     Bundestagswahl|sonstige Parteien|      Sonstige|\n",
      "|       0|            0|     3771|          16|        3|      122|                     3.0|         2025-02-20|       2025-02-13|     2025-02-20|          10036|      Bundestag|          Bundestag|     Bundestagswahl|sonstige Parteien|      Sonstige|\n",
      "|       0|            0|     3767|           6|        4|        5|                     4.0|         2025-02-20|       2025-02-19|     2025-02-20|           1349|      Bundestag|          Bundestag|     Bundestagswahl|sonstige Parteien|      Sonstige|\n",
      "|       0|            0|     3766|          17|        3|       13|                     5.0|         2025-02-20|       2025-02-12|     2025-02-19|           2000|      Bundestag|          Bundestag|     Bundestagswahl|sonstige Parteien|      Sonstige|\n",
      "|       0|            0|     3764|           5|        3|        4|                     5.0|         2025-02-20|       2025-02-18|     2025-02-19|           2502|      Bundestag|          Bundestag|     Bundestagswahl|sonstige Parteien|      Sonstige|\n",
      "|       0|            0|     3762|           4|        4|        7|                     5.0|         2025-02-19|       2025-02-16|     2025-02-19|           1016|      Bundestag|          Bundestag|     Bundestagswahl|sonstige Parteien|      Sonstige|\n",
      "|       0|            0|     3761|          24|        3|       97|                     5.5|         2025-02-18|       2025-02-17|     2025-02-18|           1000|      Bundestag|          Bundestag|     Bundestagswahl|sonstige Parteien|      Sonstige|\n",
      "|       0|            0|     3760|           2|        1|       63|                     5.0|         2025-02-18|       2025-02-11|     2025-02-17|           2501|      Bundestag|          Bundestag|     Bundestagswahl|sonstige Parteien|      Sonstige|\n",
      "|       0|            0|     3759|          13|        3|       43|                     5.0|         2025-02-18|       2025-02-14|     2025-02-17|           2131|      Bundestag|          Bundestag|     Bundestagswahl|sonstige Parteien|      Sonstige|\n",
      "|       0|            0|     3758|           5|        3|        4|                     4.0|         2025-02-17|       2025-02-14|     2025-02-17|           2010|      Bundestag|          Bundestag|     Bundestagswahl|sonstige Parteien|      Sonstige|\n",
      "|       0|            0|     3756|           5|        4|        3|                     6.0|         2025-02-15|       2025-02-10|     2025-02-14|           1205|      Bundestag|          Bundestag|     Bundestagswahl|sonstige Parteien|      Sonstige|\n",
      "|       0|            0|     3755|           9|        2|        6|                     5.0|         2025-02-14|       2025-01-31|     2025-02-12|           1021|      Bundestag|          Bundestag|     Bundestagswahl|sonstige Parteien|      Sonstige|\n",
      "|       0|            0|     3753|           6|        4|        5|                     5.0|         2025-02-14|       2025-02-11|     2025-02-13|           1348|      Bundestag|          Bundestag|     Bundestagswahl|sonstige Parteien|      Sonstige|\n",
      "|       0|            0|     3752|          24|        3|       97|                     7.0|         2025-02-13|       2025-02-11|     2025-02-13|           1700|      Bundestag|          Bundestag|     Bundestagswahl|sonstige Parteien|      Sonstige|\n",
      "|       0|            0|     3751|           1|        4|       10|                     4.5|         2025-02-13|       2025-02-10|     2025-02-12|           1579|      Bundestag|          Bundestag|     Bundestagswahl|sonstige Parteien|      Sonstige|\n",
      "+--------+-------------+---------+------------+---------+---------+------------------------+-------------------+-----------------+---------------+---------------+---------------+-------------------+-------------------+-----------------+--------------+\n",
      "only showing top 20 rows\n",
      "\n"
     ]
    }
   ],
   "source": [
    "df_surveys.join(df_parliaments, on=\"parliament_id\" , how=\"full\").join(df_parties, on=\"party_id\", how=\"full\").show()\n"
   ]
  },
  {
   "cell_type": "code",
   "execution_count": 69,
   "metadata": {},
   "outputs": [
    {
     "name": "stdout",
     "output_type": "stream",
     "text": [
      "['author', 'last_update', 'publisher', 'license_name', 'license_shortcut', 'license_link']\n",
      "['parliament_id', 'parliament_name', 'parliament_shortcut', 'parliament_election']\n",
      "['institute_id', 'institute_name']\n",
      "['tasker_id', 'tasker_name']\n",
      "['method_id', 'method_name']\n",
      "['party_id', 'party_name', 'party_shortcut']\n",
      "['survey_id', 'party_id', 'institute_id', 'parliament_id', 'method_id', 'tasker_id', 'survey_result_by_percent', 'survey_publish_date', 'survey_start_date', 'survey_end_date', 'total_surveyees']\n"
     ]
    }
   ],
   "source": [
    "print(df_database.columns)\n",
    "print(df_parliaments.columns)\n",
    "print(df_institutes.columns)\n",
    "print(df_taskers.columns)\n",
    "print(df_methods.columns)\n",
    "print(df_parties.columns)\n",
    "print(df_surveys.columns)\n",
    "\n",
    "column_database = ['author', 'last_update', 'publisher', 'license_name', 'license_shortcut', 'license_link']\n",
    "column_parliaments = ['parliament_id', 'parliament_name', 'parliament_shortcut', 'parliament_election']\n",
    "column_institutes = ['institute_id', 'institute_name']\n",
    "column_taskers = ['tasker_id', 'tasker_name']\n",
    "column_methods = ['method_id', 'method_name']\n",
    "column_parties = ['party_id', 'party_name', 'party_shortcut']\n",
    "column_surveys = ['survey_id', 'parliament_id', 'institute_id', 'tasker_id', 'method_id', 'party_id', 'survey_result_by_percent', 'survey_publish_date', 'survey_start_date', 'survey_end_date', 'total_surveyees']"
   ]
  },
  {
   "cell_type": "markdown",
   "metadata": {},
   "source": []
  },
  {
   "cell_type": "code",
   "execution_count": 70,
   "metadata": {},
   "outputs": [
    {
     "ename": "OperationalError",
     "evalue": "unable to open database file",
     "output_type": "error",
     "traceback": [
      "\u001b[0;31m---------------------------------------------------------------------------\u001b[0m",
      "\u001b[0;31mOperationalError\u001b[0m                          Traceback (most recent call last)",
      "Cell \u001b[0;32mIn[70], line 2\u001b[0m\n\u001b[1;32m      1\u001b[0m \u001b[38;5;28;01mimport\u001b[39;00m \u001b[38;5;21;01msqlite3\u001b[39;00m\n\u001b[0;32m----> 2\u001b[0m conn \u001b[38;5;241m=\u001b[39m \u001b[43msqlite3\u001b[49m\u001b[38;5;241;43m.\u001b[39;49m\u001b[43mconnect\u001b[49m\u001b[43m(\u001b[49m\u001b[38;5;124;43m'\u001b[39;49m\u001b[38;5;124;43m./database/fun.db\u001b[39;49m\u001b[38;5;124;43m'\u001b[39;49m\u001b[43m)\u001b[49m\n\u001b[1;32m      4\u001b[0m dfp_database \u001b[38;5;241m=\u001b[39m df_database\u001b[38;5;241m.\u001b[39mtoPandas()\n\u001b[1;32m      5\u001b[0m dfp_parliaments \u001b[38;5;241m=\u001b[39m df_parliaments\u001b[38;5;241m.\u001b[39mtoPandas()\n",
      "\u001b[0;31mOperationalError\u001b[0m: unable to open database file"
     ]
    }
   ],
   "source": [
    "import sqlite3\n",
    "conn = sqlite3.connect('./database/fun.db')\n",
    "\n",
    "dfp_database = df_database.toPandas()\n",
    "dfp_parliaments = df_parliaments.toPandas()\n",
    "dfp_institutes = df_institutes.toPandas()\n",
    "dfp_taskers = df_taskers.toPandas()\n",
    "dfp_methods = df_methods.toPandas()\n",
    "dfp_parties = df_parties.toPandas()\n",
    "dfp_surveys = df_surveys.toPandas()\n",
    "\n",
    "dfp_database.to_sql(\"\", con=conn, if_exists=\"replace\", index=False)\n",
    "dfp_parliaments.to_sql(\"\", con=conn, if_exists=\"replace\", index=False)\n",
    "dfp_institutes.to_sql(\"\", con=conn, if_exists=\"replace\", index=False)\n",
    "dfp_taskers.to_sql(\"\", con=conn, if_exists=\"replace\", index=False)\n",
    "dfp_methods.to_sql(\"\", con=conn, if_exists=\"replace\", index=False)\n",
    "dfp_parties.to_sql(\"\", con=conn, if_exists=\"replace\", index=False)\n",
    "dfp_surveys.to_sql(\"\", con=conn, if_exists=\"replace\", index=False)"
   ]
  },
  {
   "cell_type": "code",
   "execution_count": null,
   "metadata": {},
   "outputs": [
    {
     "data": {
      "text/html": [
       "<div>\n",
       "<style scoped>\n",
       "    .dataframe tbody tr th:only-of-type {\n",
       "        vertical-align: middle;\n",
       "    }\n",
       "\n",
       "    .dataframe tbody tr th {\n",
       "        vertical-align: top;\n",
       "    }\n",
       "\n",
       "    .dataframe thead th {\n",
       "        text-align: right;\n",
       "    }\n",
       "</style>\n",
       "<table border=\"1\" class=\"dataframe\">\n",
       "  <thead>\n",
       "    <tr style=\"text-align: right;\">\n",
       "      <th></th>\n",
       "      <th>author</th>\n",
       "      <th>last_update</th>\n",
       "      <th>publisher</th>\n",
       "      <th>license_name</th>\n",
       "      <th>license_shortcut</th>\n",
       "      <th>license_link</th>\n",
       "    </tr>\n",
       "  </thead>\n",
       "  <tbody>\n",
       "    <tr>\n",
       "      <th>0</th>\n",
       "      <td>Dipl.-Jur. Philipp Guttmann</td>\n",
       "      <td>2025-02-18T13:00:31+01:00</td>\n",
       "      <td>dawum.de</td>\n",
       "      <td>ODC Open Database License</td>\n",
       "      <td>ODC-ODbL</td>\n",
       "      <td>https://opendatacommons.org/licenses/odbl/1-0/</td>\n",
       "    </tr>\n",
       "  </tbody>\n",
       "</table>\n",
       "</div>"
      ],
      "text/plain": [
       "                        author                last_update publisher  \\\n",
       "0  Dipl.-Jur. Philipp Guttmann  2025-02-18T13:00:31+01:00  dawum.de   \n",
       "\n",
       "                license_name license_shortcut  \\\n",
       "0  ODC Open Database License         ODC-ODbL   \n",
       "\n",
       "                                     license_link  \n",
       "0  https://opendatacommons.org/licenses/odbl/1-0/  "
      ]
     },
     "execution_count": 23,
     "metadata": {},
     "output_type": "execute_result"
    }
   ],
   "source": [
    "pd.read_sql(\"select * from database_information;\", con=conn)"
   ]
  }
 ],
 "metadata": {
  "kernelspec": {
   "display_name": "data",
   "language": "python",
   "name": "python3"
  },
  "language_info": {
   "codemirror_mode": {
    "name": "ipython",
    "version": 3
   },
   "file_extension": ".py",
   "mimetype": "text/x-python",
   "name": "python",
   "nbconvert_exporter": "python",
   "pygments_lexer": "ipython3",
   "version": "3.10.14"
  }
 },
 "nbformat": 4,
 "nbformat_minor": 2
}
