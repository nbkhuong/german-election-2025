{
 "cells": [
  {
   "cell_type": "code",
   "execution_count": 1,
   "metadata": {},
   "outputs": [],
   "source": [
    "import csv\n",
    "import io\n",
    "import requests\n",
    "import pandas as pd\n",
    "\n",
    "import pyspark.sql.functions as F\n",
    "from pyspark.sql import SparkSession\n",
    "from pyspark.context import SparkContext\n",
    "from pyspark.conf import SparkConf\n",
    "\n",
    "from retrieve_data import DataRetrieverOverAPI\n",
    "\n",
    "DAWUM_API_URL = \"https://api.dawum.de/\""
   ]
  },
  {
   "cell_type": "code",
   "execution_count": 2,
   "metadata": {},
   "outputs": [
    {
     "name": "stderr",
     "output_type": "stream",
     "text": [
      "Setting default log level to \"WARN\".\n",
      "To adjust logging level use sc.setLogLevel(newLevel). For SparkR, use setLogLevel(newLevel).\n",
      "25/02/24 10:58:19 WARN NativeCodeLoader: Unable to load native-hadoop library for your platform... using builtin-java classes where applicable\n"
     ]
    }
   ],
   "source": [
    "spark = SparkSession.builder \\\n",
    "                    .appName(\"Spark Basics\") \\\n",
    "                    .getOrCreate()"
   ]
  },
  {
   "cell_type": "code",
   "execution_count": 3,
   "metadata": {},
   "outputs": [],
   "source": [
    "dawum_api = DataRetrieverOverAPI(DAWUM_API_URL)\n",
    "data = dawum_api.data"
   ]
  },
  {
   "cell_type": "code",
   "execution_count": 4,
   "metadata": {},
   "outputs": [
    {
     "name": "stdout",
     "output_type": "stream",
     "text": [
      "<class 'dict'>\n"
     ]
    }
   ],
   "source": [
    "dawum_database = data['Database']\n",
    "dawum_parliaments = data['Parliaments']\n",
    "dawum_institutes = data['Institutes']\n",
    "dawum_taskers = data['Taskers']\n",
    "dawum_methods = data['Methods']\n",
    "dawum_parties = data['Parties']\n",
    "dawum_surveys = data['Surveys']\n",
    "\n",
    "print(type(dawum_surveys))"
   ]
  },
  {
   "cell_type": "code",
   "execution_count": 5,
   "metadata": {},
   "outputs": [
    {
     "name": "stderr",
     "output_type": "stream",
     "text": [
      "                                                                                \r"
     ]
    },
    {
     "name": "stdout",
     "output_type": "stream",
     "text": [
      "+--------------------+--------------------+---------+--------------------+----------------+--------------------+\n",
      "|              author|         last_update|publisher|        license_name|license_shortcut|        license_link|\n",
      "+--------------------+--------------------+---------+--------------------+----------------+--------------------+\n",
      "|Dipl.-Jur. Philip...|2025-02-22T12:45:...| dawum.de|ODC Open Database...|        ODC-ODbL|https://opendatac...|\n",
      "+--------------------+--------------------+---------+--------------------+----------------+--------------------+\n",
      "\n"
     ]
    }
   ],
   "source": [
    "df_database = spark.read.json(spark.sparkContext.parallelize([dawum_database]))\n",
    "df_database = df_database.withColumn(\"license_name\", F.col(\"License.Name\")) \\\n",
    "                    .withColumn(\"license_shortcut\", F.col(\"License.Shortcut\")) \\\n",
    "                    .withColumn(\"license_link\", F.col(\"License.Link\")) \\\n",
    "                    .drop(\"License\") \\\n",
    "                    .withColumnRenamed(\"Author\", \"author\") \\\n",
    "                    .withColumnRenamed(\"Last_Update\", \"last_update\") \\\n",
    "                    .withColumnRenamed(\"Publisher\", \"publisher\") \\\n",
    "                    \n",
    "df_database.show()\n"
   ]
  },
  {
   "cell_type": "code",
   "execution_count": 6,
   "metadata": {},
   "outputs": [
    {
     "name": "stdout",
     "output_type": "stream",
     "text": [
      "+-------------+--------------------+--------------------+--------------------+\n",
      "|parliament_id|     parliament_name| parliament_shortcut| parliament_election|\n",
      "+-------------+--------------------+--------------------+--------------------+\n",
      "|            0|           Bundestag|           Bundestag|      Bundestagswahl|\n",
      "|            6|Hamburgische Bürg...|             Hamburg|Bürgerschaftswahl...|\n",
      "|            9|Niedersächsischer...|       Niedersachsen|Landtagswahl in N...|\n",
      "|            1|Landtag von Baden...|   Baden-Württemberg|Landtagswahl in B...|\n",
      "|            8|Landtag von Meckl...|Mecklenburg-Vorpo...|Landtagswahl in M...|\n",
      "|           16|Thüringischer Lan...|           Thüringen|Landtagswahl in T...|\n",
      "|            4|Brandenburgischer...|         Brandenburg|Landtagswahl in B...|\n",
      "|           15|Landtag von Schle...|  Schleswig-Holstein|Landtagswahl in S...|\n",
      "|           14|Landtag von Sachs...|      Sachsen-Anhalt|Landtagswahl in S...|\n",
      "|           13| Sächsischer Landtag|             Sachsen|Landtagswahl in S...|\n",
      "|            7|  Hessischer Landtag|              Hessen|Landtagswahl in H...|\n",
      "|           10|Landtag von Nordr...|Nordrhein-Westfal...|Landtagswahl in N...|\n",
      "|           11|Landtag von Rhein...|     Rheinland-Pfalz|Landtagswahl in R...|\n",
      "|            3|Berliner Abgeordn...|              Berlin|Abgeordnetenhausw...|\n",
      "|            2| Bayerischer Landtag|              Bayern|Landtagswahl in B...|\n",
      "|           12|Saarländischer La...|            Saarland|Landtagswahl im S...|\n",
      "|           17|Europäisches Parl...|Europäisches Parl...|          Europawahl|\n",
      "|            5|Bremische Bürgers...|              Bremen|Bürgerschaftswahl...|\n",
      "+-------------+--------------------+--------------------+--------------------+\n",
      "\n"
     ]
    }
   ],
   "source": [
    "rdd = spark.sparkContext.parallelize(dawum_parliaments.items())  # Parallelize the dictionary items\n",
    "\n",
    "df_parliaments = rdd.map(lambda x: (x[0], x[1]['Name'], x[1]['Shortcut'], x[1]['Election'])).toDF([\"parliament_id\", \"parliament_name\", \"parliament_shortcut\", \"parliament_election\"])\n",
    "\n",
    "df_parliaments.show()"
   ]
  },
  {
   "cell_type": "code",
   "execution_count": 7,
   "metadata": {},
   "outputs": [
    {
     "name": "stdout",
     "output_type": "stream",
     "text": [
      "+------------+--------------------+\n",
      "|institute_id|      institute_name|\n",
      "+------------+--------------------+\n",
      "|           5|                INSA|\n",
      "|          24|Institut Wahlkrei...|\n",
      "|          17|               Ipsos|\n",
      "|           9|          Allensbach|\n",
      "|           2|               Forsa|\n",
      "|          13|              YouGov|\n",
      "|          16|               Civey|\n",
      "|           6|Forschungsgruppe ...|\n",
      "|           1|     Infratest dimap|\n",
      "|           4|                 GMS|\n",
      "|          22|            pollytix|\n",
      "|           3|      Verian (Emnid)|\n",
      "|           7|Trend Research Ha...|\n",
      "|          25|          IFM Berlin|\n",
      "|          21|      Policy Matters|\n",
      "|          18| Universität Hamburg|\n",
      "|          15|         Mentefactum|\n",
      "|          20|            IM Field|\n",
      "|          12|              uniQma|\n",
      "|          23|           Conoscope|\n",
      "+------------+--------------------+\n",
      "only showing top 20 rows\n",
      "\n"
     ]
    }
   ],
   "source": [
    "rdd = spark.sparkContext.parallelize(dawum_institutes.items())  # Parallelize the dictionary items\n",
    "df_institutes = rdd.map(lambda x: (x[0], x[1][\"Name\"])).toDF([\"institute_id\", \"institute_name\"])\n",
    "df_institutes.show()"
   ]
  },
  {
   "cell_type": "code",
   "execution_count": 8,
   "metadata": {},
   "outputs": [
    {
     "name": "stdout",
     "output_type": "stream",
     "text": [
      "+---------+--------------------+\n",
      "|tasker_id|         tasker_name|\n",
      "+---------+--------------------+\n",
      "|        4|                BILD|\n",
      "|       97|Institut Wahlkrei...|\n",
      "|       13|               Ipsos|\n",
      "|        6|Frankfurter Allge...|\n",
      "|       63|          RTL / n-tv|\n",
      "|       43|              YouGov|\n",
      "|      122|           Seven.One|\n",
      "|        5|  ZDF-Politbarometer|\n",
      "|       11|                 ARD|\n",
      "|        7|                 GMS|\n",
      "|       56| Schwäbische Zeitung|\n",
      "|        3|     BILD am Sonntag|\n",
      "|       10|     ARD-Tagesthemen|\n",
      "|       67|            pollytix|\n",
      "|       38|      Ostsee-Zeitung|\n",
      "|       80|FUNKE Medien Thür...|\n",
      "|       39|                 NDR|\n",
      "|       64|               FOCUS|\n",
      "|      112|Märkische Allgeme...|\n",
      "|      120|Radio Hamburg / D...|\n",
      "+---------+--------------------+\n",
      "only showing top 20 rows\n",
      "\n"
     ]
    }
   ],
   "source": [
    "rdd = spark.sparkContext.parallelize(dawum_taskers.items())\n",
    "df_taskers = rdd.map(lambda x: (x[0], x[1][\"Name\"])).toDF([\"tasker_id\", \"tasker_name\"])\n",
    "df_taskers.show()"
   ]
  },
  {
   "cell_type": "code",
   "execution_count": 9,
   "metadata": {},
   "outputs": [
    {
     "name": "stdout",
     "output_type": "stream",
     "text": [
      "+---------+----------------+\n",
      "|method_id|     method_name|\n",
      "+---------+----------------+\n",
      "|        3|          Online|\n",
      "|        2|      Persönlich|\n",
      "|        1|     Telefonisch|\n",
      "|        4|Telefon & Online|\n",
      "|        0|       Unbekannt|\n",
      "+---------+----------------+\n",
      "\n"
     ]
    }
   ],
   "source": [
    "rdd = spark.sparkContext.parallelize(dawum_methods.items())\n",
    "df_methods = rdd.map(lambda x: (x[0], x[1][\"Name\"])).toDF([\"method_id\", \"method_name\"])\n",
    "df_methods.show()"
   ]
  },
  {
   "cell_type": "code",
   "execution_count": 10,
   "metadata": {},
   "outputs": [
    {
     "name": "stdout",
     "output_type": "stream",
     "text": [
      "+--------+--------------------+----------------+\n",
      "|party_id|          party_name|  party_shortcut|\n",
      "+--------+--------------------+----------------+\n",
      "|       7|Alternative für D...|             AfD|\n",
      "|      11|   Bayernpartei e.V.|    Bayernpartei|\n",
      "|      14|Brandenburger Ver...|          BVB/FW|\n",
      "|       4|Bündnis 90/Die Gr...|           Grüne|\n",
      "|      23|Bündnis Sahra Wag...|             BSW|\n",
      "|      21|bunt.saar – sozia...|       bunt.saar|\n",
      "|      22|Bürger für Thüringen|            BfTh|\n",
      "|      16|       Bürger in Wut|             BIW|\n",
      "|       1|Christlich Demokr...|         CDU/CSU|\n",
      "|     101|Christlich Demokr...|             CDU|\n",
      "|     102|Christlich-Sozial...|             CSU|\n",
      "|       5|           Die Linke|           Linke|\n",
      "|      17|Familienpartei De...|         Familie|\n",
      "|       3|Freie Demokratisc...|             FDP|\n",
      "|       8|        Freie Wähler|    Freie Wähler|\n",
      "|       9|Nationaldemokrati...|             NPD|\n",
      "|      12|Ökologisch-Demokr...|             ÖDP|\n",
      "|      13|Partei für Arbeit...|      Die PARTEI|\n",
      "|      15|Partei Mensch Umw...|Tierschutzpartei|\n",
      "|       6|       Piratenpartei|         Piraten|\n",
      "|      24|Plus Brandenburg ...|Plus Brandenburg|\n",
      "|       2|Sozialdemokratisc...|             SPD|\n",
      "|      10|Südschleswigscher...|             SSW|\n",
      "|      18|    Volt Deutschland|            Volt|\n",
      "|      25|          WerteUnion|      WerteUnion|\n",
      "|       0|   sonstige Parteien|        Sonstige|\n",
      "+--------+--------------------+----------------+\n",
      "\n"
     ]
    }
   ],
   "source": [
    "rdd = spark.sparkContext.parallelize(dawum_parties.items())\n",
    "df_parties = rdd.map(lambda x: (x[0], x[1][\"Name\"], x[1][\"Shortcut\"])).toDF([\"party_id\", \"party_name\", \"party_shortcut\"])\n",
    "df_parties.show(df_parties.count())\n"
   ]
  },
  {
   "cell_type": "code",
   "execution_count": 11,
   "metadata": {},
   "outputs": [
    {
     "name": "stdout",
     "output_type": "stream",
     "text": [
      "+---------+-------------+------------+---------+---------+--------+------------------------+-------------------+-----------------+---------------+---------------+\n",
      "|survey_id|parliament_id|institute_id|tasker_id|method_id|party_id|survey_result_by_percent|survey_publish_date|survey_start_date|survey_end_date|total_surveyees|\n",
      "+---------+-------------+------------+---------+---------+--------+------------------------+-------------------+-----------------+---------------+---------------+\n",
      "|     3774|            0|           5|        4|        3|       0|                     0.0|         2025-02-22|       2025-02-20|     2025-02-21|           2005|\n",
      "|     3774|            0|           5|        4|        3|      23|                     0.0|         2025-02-22|       2025-02-20|     2025-02-21|           2005|\n",
      "|     3774|            0|           5|        4|        3|       1|                    29.5|         2025-02-22|       2025-02-20|     2025-02-21|           2005|\n",
      "|     3774|            0|           5|        4|        3|       2|                     0.0|         2025-02-22|       2025-02-20|     2025-02-21|           2005|\n",
      "|     3774|            0|           5|        4|        3|       3|                     4.5|         2025-02-22|       2025-02-20|     2025-02-21|           2005|\n",
      "|     3774|            0|           5|        4|        3|       4|                    12.5|         2025-02-22|       2025-02-20|     2025-02-21|           2005|\n",
      "|     3774|            0|           5|        4|        3|       5|                     7.5|         2025-02-22|       2025-02-20|     2025-02-21|           2005|\n",
      "|     3774|            0|           5|        4|        3|       7|                     0.0|         2025-02-22|       2025-02-20|     2025-02-21|           2005|\n",
      "|     3773|            0|          24|       97|        3|       0|                     4.5|         2025-02-21|       2025-02-20|     2025-02-21|           1536|\n",
      "|     3773|            0|          24|       97|        3|      23|                     4.5|         2025-02-21|       2025-02-20|     2025-02-21|           1536|\n",
      "|     3773|            0|          24|       97|        3|       1|                    29.5|         2025-02-21|       2025-02-20|     2025-02-21|           1536|\n",
      "|     3773|            0|          24|       97|        3|       2|                    14.5|         2025-02-21|       2025-02-20|     2025-02-21|           1536|\n",
      "|     3773|            0|          24|       97|        3|       3|                     4.5|         2025-02-21|       2025-02-20|     2025-02-21|           1536|\n",
      "|     3773|            0|          24|       97|        3|       4|                     0.0|         2025-02-21|       2025-02-20|     2025-02-21|           1536|\n",
      "|     3773|            0|          24|       97|        3|       5|                     0.0|         2025-02-21|       2025-02-20|     2025-02-21|           1536|\n",
      "|     3773|            0|          24|       97|        3|       7|                    20.5|         2025-02-21|       2025-02-20|     2025-02-21|           1536|\n",
      "|     3773|            0|          24|       97|        3|       8|                     0.0|         2025-02-21|       2025-02-20|     2025-02-21|           1536|\n",
      "|     3772|            0|          17|       13|        3|       0|                     0.0|         2025-02-21|       2025-02-19|     2025-02-21|           1000|\n",
      "|     3772|            0|          17|       13|        3|      23|                     4.5|         2025-02-21|       2025-02-19|     2025-02-21|           1000|\n",
      "|     3772|            0|          17|       13|        3|       1|                     0.0|         2025-02-21|       2025-02-19|     2025-02-21|           1000|\n",
      "|     3772|            0|          17|       13|        3|       2|                     0.0|         2025-02-21|       2025-02-19|     2025-02-21|           1000|\n",
      "|     3772|            0|          17|       13|        3|       3|                     4.5|         2025-02-21|       2025-02-19|     2025-02-21|           1000|\n",
      "|     3772|            0|          17|       13|        3|       4|                     0.0|         2025-02-21|       2025-02-19|     2025-02-21|           1000|\n",
      "|     3772|            0|          17|       13|        3|       5|                     0.0|         2025-02-21|       2025-02-19|     2025-02-21|           1000|\n",
      "|     3772|            0|          17|       13|        3|       7|                     0.0|         2025-02-21|       2025-02-19|     2025-02-21|           1000|\n",
      "|     3770|            0|           9|        6|        2|       0|                     0.0|         2025-02-21|       2025-02-09|     2025-02-20|           1064|\n",
      "|     3770|            0|           9|        6|        2|      23|                     4.5|         2025-02-21|       2025-02-09|     2025-02-20|           1064|\n",
      "|     3770|            0|           9|        6|        2|       1|                     0.0|         2025-02-21|       2025-02-09|     2025-02-20|           1064|\n",
      "|     3770|            0|           9|        6|        2|       2|                    14.5|         2025-02-21|       2025-02-09|     2025-02-20|           1064|\n",
      "|     3770|            0|           9|        6|        2|       3|                     4.5|         2025-02-21|       2025-02-09|     2025-02-20|           1064|\n",
      "+---------+-------------+------------+---------+---------+--------+------------------------+-------------------+-----------------+---------------+---------------+\n",
      "only showing top 30 rows\n",
      "\n"
     ]
    },
    {
     "data": {
      "text/plain": [
       "2065"
      ]
     },
     "execution_count": 11,
     "metadata": {},
     "output_type": "execute_result"
    }
   ],
   "source": [
    "rdd = spark.sparkContext.parallelize(dawum_surveys.items())\n",
    "df_surveys = rdd.map(lambda x: (x[0], \n",
    "                                x[1][\"Parliament_ID\"],\n",
    "                                x[1][\"Institute_ID\"],\n",
    "                                x[1][\"Tasker_ID\"],\n",
    "                                x[1][\"Method_ID\"],\n",
    "                                x[1][\"Date\"], \n",
    "                                x[1][\"Survey_Period\"][\"Date_Start\"], \n",
    "                                x[1][\"Survey_Period\"][\"Date_End\"],\n",
    "                                x[1][\"Surveyed_Persons\"],\n",
    "                                x[1][\"Results\"]\n",
    "                                )) \\\n",
    "                        .toDF([\"survey_id\", \n",
    "                               \"parliament_id\",\n",
    "                               \"institute_id\",\n",
    "                               \"tasker_id\",\n",
    "                               \"method_id\",\n",
    "                               \"survey_publish_date\",\n",
    "                               \"survey_start_date\", \n",
    "                               \"survey_end_date\",\n",
    "                               \"total_surveyees\",\n",
    "                               \"results\"])\n",
    "\n",
    "df_surveys = df_surveys.select(F.col(\"survey_id\"), \n",
    "                               F.col(\"parliament_id\"),\n",
    "                               F.col(\"institute_id\"),\n",
    "                               F.col(\"tasker_id\"),\n",
    "                               F.col(\"method_id\"),\n",
    "                               F.explode(df_surveys.results).alias(\"party_id\", \"survey_result_by_percent\"),\n",
    "                               F.col(\"survey_publish_date\"),\n",
    "                               F.col(\"survey_start_date\"), \n",
    "                               F.col(\"survey_end_date\"),\n",
    "                               F.col(\"total_surveyees\") \n",
    "                               )\n",
    "\n",
    "df_surveys = df_surveys.fillna({\"survey_result_by_percent\": 0})\n",
    "df_surveys.show(30)\n",
    "df_surveys_3col = df_surveys.select(\"party_id\", \"survey_publish_date\", \"survey_result_by_percent\", \"institute_id\")#.show(40)\n",
    "df_surveys_3col.select(\"survey_publish_date\").distinct().count()"
   ]
  },
  {
   "cell_type": "code",
   "execution_count": 12,
   "metadata": {},
   "outputs": [
    {
     "name": "stdout",
     "output_type": "stream",
     "text": [
      "+--------+-------------+---------+------------+---------+---------+------------------------+-------------------+-----------------+---------------+---------------+---------------+-------------------+-------------------+-----------------+--------------+\n",
      "|party_id|parliament_id|survey_id|institute_id|tasker_id|method_id|survey_result_by_percent|survey_publish_date|survey_start_date|survey_end_date|total_surveyees|parliament_name|parliament_shortcut|parliament_election|       party_name|party_shortcut|\n",
      "+--------+-------------+---------+------------+---------+---------+------------------------+-------------------+-----------------+---------------+---------------+---------------+-------------------+-------------------+-----------------+--------------+\n",
      "|       0|            0|     3774|           5|        4|        3|                     0.0|         2025-02-22|       2025-02-20|     2025-02-21|           2005|      Bundestag|          Bundestag|     Bundestagswahl|sonstige Parteien|      Sonstige|\n",
      "|       0|            0|     3773|          24|       97|        3|                     4.5|         2025-02-21|       2025-02-20|     2025-02-21|           1536|      Bundestag|          Bundestag|     Bundestagswahl|sonstige Parteien|      Sonstige|\n",
      "|       0|            0|     3772|          17|       13|        3|                     0.0|         2025-02-21|       2025-02-19|     2025-02-21|           1000|      Bundestag|          Bundestag|     Bundestagswahl|sonstige Parteien|      Sonstige|\n",
      "|       0|            0|     3770|           9|        6|        2|                     0.0|         2025-02-21|       2025-02-09|     2025-02-20|           1064|      Bundestag|          Bundestag|     Bundestagswahl|sonstige Parteien|      Sonstige|\n",
      "|       0|            0|     3769|           2|       63|        1|                     0.0|         2025-02-21|       2025-02-17|     2025-02-20|           2002|      Bundestag|          Bundestag|     Bundestagswahl|sonstige Parteien|      Sonstige|\n",
      "|       0|            0|     3768|          13|       43|        3|                     0.0|         2025-02-21|       2025-02-17|     2025-02-20|           1681|      Bundestag|          Bundestag|     Bundestagswahl|sonstige Parteien|      Sonstige|\n",
      "|       0|            0|     3771|          16|      122|        3|                     0.0|         2025-02-20|       2025-02-13|     2025-02-20|          10036|      Bundestag|          Bundestag|     Bundestagswahl|sonstige Parteien|      Sonstige|\n",
      "|       0|            0|     3767|           6|        5|        4|                     0.0|         2025-02-20|       2025-02-19|     2025-02-20|           1349|      Bundestag|          Bundestag|     Bundestagswahl|sonstige Parteien|      Sonstige|\n",
      "|       0|            0|     3766|          17|       13|        3|                     0.0|         2025-02-20|       2025-02-12|     2025-02-19|           2000|      Bundestag|          Bundestag|     Bundestagswahl|sonstige Parteien|      Sonstige|\n",
      "|       0|            0|     3764|           5|        4|        3|                     0.0|         2025-02-20|       2025-02-18|     2025-02-19|           2502|      Bundestag|          Bundestag|     Bundestagswahl|sonstige Parteien|      Sonstige|\n",
      "|       0|            0|     3762|           4|        7|        4|                     0.0|         2025-02-19|       2025-02-16|     2025-02-19|           1016|      Bundestag|          Bundestag|     Bundestagswahl|sonstige Parteien|      Sonstige|\n",
      "|       0|            0|     3761|          24|       97|        3|                     5.5|         2025-02-18|       2025-02-17|     2025-02-18|           1000|      Bundestag|          Bundestag|     Bundestagswahl|sonstige Parteien|      Sonstige|\n",
      "|       0|            0|     3760|           2|       63|        1|                     0.0|         2025-02-18|       2025-02-11|     2025-02-17|           2501|      Bundestag|          Bundestag|     Bundestagswahl|sonstige Parteien|      Sonstige|\n",
      "|       0|            0|     3759|          13|       43|        3|                     0.0|         2025-02-18|       2025-02-14|     2025-02-17|           2131|      Bundestag|          Bundestag|     Bundestagswahl|sonstige Parteien|      Sonstige|\n",
      "|       0|            0|     3758|           5|        4|        3|                     0.0|         2025-02-17|       2025-02-14|     2025-02-17|           2010|      Bundestag|          Bundestag|     Bundestagswahl|sonstige Parteien|      Sonstige|\n",
      "|       0|            0|     3756|           5|        3|        4|                     0.0|         2025-02-15|       2025-02-10|     2025-02-14|           1205|      Bundestag|          Bundestag|     Bundestagswahl|sonstige Parteien|      Sonstige|\n",
      "|       0|            0|     3755|           9|        6|        2|                     0.0|         2025-02-14|       2025-01-31|     2025-02-12|           1021|      Bundestag|          Bundestag|     Bundestagswahl|sonstige Parteien|      Sonstige|\n",
      "|       0|            0|     3753|           6|        5|        4|                     0.0|         2025-02-14|       2025-02-11|     2025-02-13|           1348|      Bundestag|          Bundestag|     Bundestagswahl|sonstige Parteien|      Sonstige|\n",
      "|       0|            0|     3752|          24|       97|        3|                     0.0|         2025-02-13|       2025-02-11|     2025-02-13|           1700|      Bundestag|          Bundestag|     Bundestagswahl|sonstige Parteien|      Sonstige|\n",
      "|       0|            0|     3751|           1|       10|        4|                     4.5|         2025-02-13|       2025-02-10|     2025-02-12|           1579|      Bundestag|          Bundestag|     Bundestagswahl|sonstige Parteien|      Sonstige|\n",
      "+--------+-------------+---------+------------+---------+---------+------------------------+-------------------+-----------------+---------------+---------------+---------------+-------------------+-------------------+-----------------+--------------+\n",
      "only showing top 20 rows\n",
      "\n"
     ]
    }
   ],
   "source": [
    "df_surveys.join(df_parliaments, on=\"parliament_id\" , how=\"full\").join(df_parties, on=\"party_id\", how=\"full\").show()\n"
   ]
  },
  {
   "cell_type": "code",
   "execution_count": 13,
   "metadata": {},
   "outputs": [
    {
     "name": "stdout",
     "output_type": "stream",
     "text": [
      "['author', 'last_update', 'publisher', 'license_name', 'license_shortcut', 'license_link']\n",
      "['parliament_id', 'parliament_name', 'parliament_shortcut', 'parliament_election']\n",
      "['institute_id', 'institute_name']\n",
      "['tasker_id', 'tasker_name']\n",
      "['method_id', 'method_name']\n",
      "['party_id', 'party_name', 'party_shortcut']\n",
      "['survey_id', 'parliament_id', 'institute_id', 'tasker_id', 'method_id', 'party_id', 'survey_result_by_percent', 'survey_publish_date', 'survey_start_date', 'survey_end_date', 'total_surveyees']\n"
     ]
    }
   ],
   "source": [
    "print(df_database.columns)\n",
    "print(df_parliaments.columns)\n",
    "print(df_institutes.columns)\n",
    "print(df_taskers.columns)\n",
    "print(df_methods.columns)\n",
    "print(df_parties.columns)\n",
    "print(df_surveys.columns)\n",
    "\n",
    "column_database = ['author', 'last_update', 'publisher', 'license_name', 'license_shortcut', 'license_link']\n",
    "column_parliaments = ['parliament_id', 'parliament_name', 'parliament_shortcut', 'parliament_election']\n",
    "column_institutes = ['institute_id', 'institute_name']\n",
    "column_taskers = ['tasker_id', 'tasker_name']\n",
    "column_methods = ['method_id', 'method_name']\n",
    "column_parties = ['party_id', 'party_name', 'party_shortcut']\n",
    "column_surveys = ['survey_id', 'parliament_id', 'institute_id', 'tasker_id', 'method_id', 'party_id', 'survey_result_by_percent', 'survey_publish_date', 'survey_start_date', 'survey_end_date', 'total_surveyees']"
   ]
  },
  {
   "cell_type": "markdown",
   "metadata": {},
   "source": []
  },
  {
   "cell_type": "code",
   "execution_count": 14,
   "metadata": {},
   "outputs": [
    {
     "ename": "OperationalError",
     "evalue": "unable to open database file",
     "output_type": "error",
     "traceback": [
      "\u001b[0;31m---------------------------------------------------------------------------\u001b[0m",
      "\u001b[0;31mOperationalError\u001b[0m                          Traceback (most recent call last)",
      "Cell \u001b[0;32mIn[14], line 2\u001b[0m\n\u001b[1;32m      1\u001b[0m \u001b[38;5;28;01mimport\u001b[39;00m \u001b[38;5;21;01msqlite3\u001b[39;00m\n\u001b[0;32m----> 2\u001b[0m conn \u001b[38;5;241m=\u001b[39m \u001b[43msqlite3\u001b[49m\u001b[38;5;241;43m.\u001b[39;49m\u001b[43mconnect\u001b[49m\u001b[43m(\u001b[49m\u001b[38;5;124;43m'\u001b[39;49m\u001b[38;5;124;43m./database/fun.db\u001b[39;49m\u001b[38;5;124;43m'\u001b[39;49m\u001b[43m)\u001b[49m\n\u001b[1;32m      4\u001b[0m dfp_database \u001b[38;5;241m=\u001b[39m df_database\u001b[38;5;241m.\u001b[39mtoPandas()\n\u001b[1;32m      5\u001b[0m dfp_parliaments \u001b[38;5;241m=\u001b[39m df_parliaments\u001b[38;5;241m.\u001b[39mtoPandas()\n",
      "\u001b[0;31mOperationalError\u001b[0m: unable to open database file"
     ]
    }
   ],
   "source": [
    "import sqlite3\n",
    "conn = sqlite3.connect('./database/fun.db')\n",
    "\n",
    "dfp_database = df_database.toPandas()\n",
    "dfp_parliaments = df_parliaments.toPandas()\n",
    "dfp_institutes = df_institutes.toPandas()\n",
    "dfp_taskers = df_taskers.toPandas()\n",
    "dfp_methods = df_methods.toPandas()\n",
    "dfp_parties = df_parties.toPandas()\n",
    "dfp_surveys = df_surveys.toPandas()\n",
    "\n",
    "dfp_database.to_sql(\"\", con=conn, if_exists=\"replace\", index=False)\n",
    "dfp_parliaments.to_sql(\"\", con=conn, if_exists=\"replace\", index=False)\n",
    "dfp_institutes.to_sql(\"\", con=conn, if_exists=\"replace\", index=False)\n",
    "dfp_taskers.to_sql(\"\", con=conn, if_exists=\"replace\", index=False)\n",
    "dfp_methods.to_sql(\"\", con=conn, if_exists=\"replace\", index=False)\n",
    "dfp_parties.to_sql(\"\", con=conn, if_exists=\"replace\", index=False)\n",
    "dfp_surveys.to_sql(\"\", con=conn, if_exists=\"replace\", index=False)"
   ]
  },
  {
   "cell_type": "code",
   "execution_count": null,
   "metadata": {},
   "outputs": [
    {
     "data": {
      "text/html": [
       "<div>\n",
       "<style scoped>\n",
       "    .dataframe tbody tr th:only-of-type {\n",
       "        vertical-align: middle;\n",
       "    }\n",
       "\n",
       "    .dataframe tbody tr th {\n",
       "        vertical-align: top;\n",
       "    }\n",
       "\n",
       "    .dataframe thead th {\n",
       "        text-align: right;\n",
       "    }\n",
       "</style>\n",
       "<table border=\"1\" class=\"dataframe\">\n",
       "  <thead>\n",
       "    <tr style=\"text-align: right;\">\n",
       "      <th></th>\n",
       "      <th>author</th>\n",
       "      <th>last_update</th>\n",
       "      <th>publisher</th>\n",
       "      <th>license_name</th>\n",
       "      <th>license_shortcut</th>\n",
       "      <th>license_link</th>\n",
       "    </tr>\n",
       "  </thead>\n",
       "  <tbody>\n",
       "    <tr>\n",
       "      <th>0</th>\n",
       "      <td>Dipl.-Jur. Philipp Guttmann</td>\n",
       "      <td>2025-02-18T13:00:31+01:00</td>\n",
       "      <td>dawum.de</td>\n",
       "      <td>ODC Open Database License</td>\n",
       "      <td>ODC-ODbL</td>\n",
       "      <td>https://opendatacommons.org/licenses/odbl/1-0/</td>\n",
       "    </tr>\n",
       "  </tbody>\n",
       "</table>\n",
       "</div>"
      ],
      "text/plain": [
       "                        author                last_update publisher  \\\n",
       "0  Dipl.-Jur. Philipp Guttmann  2025-02-18T13:00:31+01:00  dawum.de   \n",
       "\n",
       "                license_name license_shortcut  \\\n",
       "0  ODC Open Database License         ODC-ODbL   \n",
       "\n",
       "                                     license_link  \n",
       "0  https://opendatacommons.org/licenses/odbl/1-0/  "
      ]
     },
     "execution_count": 23,
     "metadata": {},
     "output_type": "execute_result"
    }
   ],
   "source": [
    "pd.read_sql(\"select * from database_information;\", con=conn)"
   ]
  }
 ],
 "metadata": {
  "kernelspec": {
   "display_name": "data",
   "language": "python",
   "name": "python3"
  },
  "language_info": {
   "codemirror_mode": {
    "name": "ipython",
    "version": 3
   },
   "file_extension": ".py",
   "mimetype": "text/x-python",
   "name": "python",
   "nbconvert_exporter": "python",
   "pygments_lexer": "ipython3",
   "version": "3.10.14"
  }
 },
 "nbformat": 4,
 "nbformat_minor": 2
}
